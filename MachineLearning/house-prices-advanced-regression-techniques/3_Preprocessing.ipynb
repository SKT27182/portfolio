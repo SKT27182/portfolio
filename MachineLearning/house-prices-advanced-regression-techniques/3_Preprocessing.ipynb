{
 "cells": [
  {
   "cell_type": "code",
   "execution_count": 36,
   "metadata": {},
   "outputs": [],
   "source": [
    "#from google.colab import drive\n",
    "#drive.mount('/content/drive')"
   ]
  },
  {
   "cell_type": "code",
   "execution_count": 37,
   "metadata": {},
   "outputs": [],
   "source": [
    "#cd /content/drive/MyDrive/Colab\\ Notebooks/house-prices-advanced-regression-techniques"
   ]
  },
  {
   "cell_type": "markdown",
   "metadata": {},
   "source": [
    "# Preprocessing"
   ]
  },
  {
   "cell_type": "code",
   "execution_count": 38,
   "metadata": {},
   "outputs": [],
   "source": [
    "import pandas as pd\n",
    "import numpy as np"
   ]
  },
  {
   "cell_type": "code",
   "execution_count": 39,
   "metadata": {},
   "outputs": [],
   "source": [
    "df_train = pd.read_csv('data/for_preprocessing_train.csv')\n",
    "df_test = pd.read_csv('data/for_preprocessing_test.csv')"
   ]
  },
  {
   "cell_type": "code",
   "execution_count": 40,
   "metadata": {},
   "outputs": [
    {
     "data": {
      "text/plain": [
       "dtype('int64')"
      ]
     },
     "execution_count": 40,
     "metadata": {},
     "output_type": "execute_result"
    }
   ],
   "source": [
    "df_train['HeatingQC'].dtype"
   ]
  },
  {
   "cell_type": "code",
   "execution_count": 41,
   "metadata": {},
   "outputs": [],
   "source": [
    "def get_feature_description(feature):\n",
    "    with open(\"data/data_description.txt\", mode='r') as des:\n",
    "        i=0\n",
    "        for line in des:\n",
    "            if feature in line:\n",
    "                print(line)\n",
    "                i = 1\n",
    "            elif (\"\\t\" in line) and (i==1):\n",
    "                print(line)\n",
    "            elif (\":\" in line) & (i==1):\n",
    "                break"
   ]
  },
  {
   "cell_type": "markdown",
   "metadata": {},
   "source": [
    "## Select the relevant features and drop the rest"
   ]
  },
  {
   "cell_type": "markdown",
   "metadata": {},
   "source": [
    "- following are the categorical features"
   ]
  },
  {
   "cell_type": "code",
   "execution_count": 42,
   "metadata": {},
   "outputs": [
    {
     "data": {
      "text/plain": [
       "Index(['MSZoning', 'Street', 'Alley', 'LandContour', 'LotConfig',\n",
       "       'Neighborhood', 'Condition1', 'Condition2', 'BldgType', 'HouseStyle',\n",
       "       'RoofStyle', 'RoofMatl', 'Exterior1st', 'Exterior2nd', 'MasVnrType',\n",
       "       'Foundation', 'Heating', 'GarageType', 'PavedDrive', 'MiscFeature',\n",
       "       'SaleType', 'SaleCondition'],\n",
       "      dtype='object')"
      ]
     },
     "execution_count": 42,
     "metadata": {},
     "output_type": "execute_result"
    }
   ],
   "source": [
    "col = df_train.dtypes[df_train.dtypes == object].index\n",
    "col"
   ]
  },
  {
   "cell_type": "markdown",
   "metadata": {},
   "source": [
    "- Selecting the relevant categorical features"
   ]
  },
  {
   "cell_type": "code",
   "execution_count": 43,
   "metadata": {},
   "outputs": [
    {
     "data": {
      "text/plain": [
       "9"
      ]
     },
     "execution_count": 43,
     "metadata": {},
     "output_type": "execute_result"
    }
   ],
   "source": [
    "cat_col = ['MSZoning','Street','Alley','Neighborhood','BldgType','MasVnrType','Foundation','SaleType','SaleCondition']\n",
    "len(cat_col)"
   ]
  },
  {
   "cell_type": "markdown",
   "metadata": {},
   "source": [
    "- for numerical features, we will keep all those which have the correlation with the target variable greater than 0.1"
   ]
  },
  {
   "cell_type": "code",
   "execution_count": 44,
   "metadata": {},
   "outputs": [],
   "source": [
    "num_col = df_train.corr()['SalePrice'][df_train.corr()['SalePrice'].abs() > 0.1].sort_values(ascending=False).index"
   ]
  },
  {
   "cell_type": "code",
   "execution_count": 45,
   "metadata": {},
   "outputs": [
    {
     "data": {
      "text/plain": [
       "43"
      ]
     },
     "execution_count": 45,
     "metadata": {},
     "output_type": "execute_result"
    }
   ],
   "source": [
    "num_col = list(num_col)\n",
    "len(num_col)"
   ]
  },
  {
   "cell_type": "markdown",
   "metadata": {},
   "source": [
    "- Droping the features which are highly correlated with ech other"
   ]
  },
  {
   "cell_type": "code",
   "execution_count": 46,
   "metadata": {},
   "outputs": [
    {
     "name": "stdout",
     "output_type": "stream",
     "text": [
      "GarageQual 0.9587167630750162 GarageCond\n",
      "\n",
      "\n",
      "GarageQual 0.9460304783986115 GarageYrBlt\n",
      "\n",
      "\n",
      "GarageCond 0.9587167630750162 GarageQual\n",
      "\n",
      "\n",
      "GarageCond 0.9488416248579604 GarageYrBlt\n",
      "\n",
      "\n",
      "GarageYrBlt 0.9488416248579604 GarageCond\n",
      "\n",
      "\n",
      "GarageYrBlt 0.9460304783986115 GarageQual\n",
      "\n",
      "\n"
     ]
    }
   ],
   "source": [
    "for col in num_col:\n",
    "    for i in range(len(df_train.corr()[col].sort_values(ascending=False)[1:].values)):\n",
    "        if df_train.corr()[col].sort_values(ascending=False)[1:].values[i] > 0.9:\n",
    "            print(col, df_train.corr()[col].sort_values(ascending=False)[1:].values[i], df_train.corr()[col].sort_values(ascending=False)[1:].index[i])\n",
    "            print(\"\\n\")"
   ]
  },
  {
   "cell_type": "code",
   "execution_count": 47,
   "metadata": {},
   "outputs": [],
   "source": [
    "num_col.remove('GarageYrBlt')\n",
    "num_col.remove('GarageQual')"
   ]
  },
  {
   "cell_type": "code",
   "execution_count": 48,
   "metadata": {},
   "outputs": [],
   "source": [
    "df_train = pd.concat([df_train[num_col], df_train[cat_col]], axis=1)\n",
    "num_col.remove('SalePrice')\n",
    "df_test = pd.concat([df_test[num_col], df_test[cat_col]], axis=1)"
   ]
  },
  {
   "cell_type": "markdown",
   "metadata": {},
   "source": [
    "- Converting the categorical features to dummy variables"
   ]
  },
  {
   "cell_type": "code",
   "execution_count": 49,
   "metadata": {},
   "outputs": [],
   "source": [
    "df_train = pd.get_dummies(df_train, columns=cat_col, drop_first=True)\n",
    "df_test = pd.get_dummies(df_test, columns=cat_col, drop_first=True)"
   ]
  },
  {
   "cell_type": "markdown",
   "metadata": {},
   "source": [
    "- we want to compare the model on the basis of rmse between the logarithm of the predicted value and the logarithm of the observed sales price.\n",
    "- hence converting the target variable to logarithm of the observed sales price"
   ]
  },
  {
   "cell_type": "code",
   "execution_count": 50,
   "metadata": {},
   "outputs": [],
   "source": [
    "df_train['SalePrice_log'] = np.log(df_train['SalePrice'])"
   ]
  },
  {
   "cell_type": "markdown",
   "metadata": {},
   "source": [
    "## Save the data"
   ]
  },
  {
   "cell_type": "code",
   "execution_count": 51,
   "metadata": {},
   "outputs": [],
   "source": [
    "df_train.to_csv('data/train_final.csv', index=False)\n",
    "df_test.to_csv('data/test_final.csv', index=False)"
   ]
  }
 ],
 "metadata": {
  "kernelspec": {
   "display_name": "Python 3.10.4 ('mlearning')",
   "language": "python",
   "name": "python3"
  },
  "language_info": {
   "codemirror_mode": {
    "name": "ipython",
    "version": 3
   },
   "file_extension": ".py",
   "mimetype": "text/x-python",
   "name": "python",
   "nbconvert_exporter": "python",
   "pygments_lexer": "ipython3",
   "version": "3.10.4"
  },
  "orig_nbformat": 4,
  "vscode": {
   "interpreter": {
    "hash": "1eb649f6f8cececb32e27a7c74ff0c8a2304f0589778cec0736ca47bbe35202a"
   }
  }
 },
 "nbformat": 4,
 "nbformat_minor": 2
}
