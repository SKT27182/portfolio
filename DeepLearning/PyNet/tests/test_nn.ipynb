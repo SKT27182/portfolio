{
 "cells": [
  {
   "attachments": {},
   "cell_type": "markdown",
   "metadata": {},
   "source": [
    "## imports"
   ]
  },
  {
   "cell_type": "code",
   "execution_count": 1,
   "metadata": {},
   "outputs": [],
   "source": [
    "import numpy as np\n",
    "import pandas as pd\n",
    "import matplotlib.pyplot as plt\n",
    "\n",
    "from  dl.nn.nn import NeuralNetwork as network\n",
    "from  dl.nn import layers as layers\n",
    "from  dl.nn import losses as losses\n",
    "from dl.nn import activations as activations\n",
    "from utils.metrics import Metrics as metrics\n",
    "from utils import optimizers as optimizers"
   ]
  },
  {
   "attachments": {},
   "cell_type": "markdown",
   "metadata": {},
   "source": [
    "## MNIST Fashion (CNN)"
   ]
  },
  {
   "cell_type": "code",
   "execution_count": 2,
   "metadata": {},
   "outputs": [
    {
     "name": "stderr",
     "output_type": "stream",
     "text": [
      "2023-03-13 01:08:42.837916: I tensorflow/core/platform/cpu_feature_guard.cc:193] This TensorFlow binary is optimized with oneAPI Deep Neural Network Library (oneDNN) to use the following CPU instructions in performance-critical operations:  AVX2 FMA\n",
      "To enable them in other operations, rebuild TensorFlow with the appropriate compiler flags.\n"
     ]
    }
   ],
   "source": [
    "# load MNIST Digits dataset from keras\n",
    "\n",
    "import tensorflow as tf\n",
    "mnist = tf.keras.datasets.mnist\n",
    "\n",
    "(x_train, y_train), (x_test, y_test) = mnist.load_data()\n",
    "\n",
    "# normalize the data\n",
    "x_train = x_train/255.\n",
    "x_test = x_test/255.\n",
    "\n",
    "# Flatten the images\n",
    "x_train = x_train.reshape(-1, 1, 28,28)[:1000]\n",
    "x_test = x_test.reshape(-1, 1, 28,28)[:1000]\n",
    "\n",
    "y_test = y_test[:1000]\n",
    "y_train = y_train[:1000]\n",
    "\n",
    "# one-hot encode the labels\n",
    "y_oh_train = pd.get_dummies(y_train).values\n",
    "y_oh_test = pd.get_dummies(y_test).values"
   ]
  },
  {
   "cell_type": "code",
   "execution_count": 3,
   "metadata": {},
   "outputs": [
    {
     "name": "stdout",
     "output_type": "stream",
     "text": [
      "Summary of the Neural Network\n",
      "___________________________________________________________________________________________________________________\n",
      "Layer (type)        Neurons #      Input Shape    Output Shape   Weights shape  Bias shape        Param #\n",
      "===================================================================================================================\n",
      "Input               3              -              (3, None)      -              -                       0\n",
      "\n",
      "ConvLayer           9              (28, 28, 1)    ((26, 26, 9),) (3, 3, 1, 9)   (9, 1)                 90\n",
      "\n",
      "ActivationLayer     -              activavtion    Tanh           -              -                       0\n",
      "\n",
      "MaxPool2D           -              (26, 26, 9)    ((13, 13, 9),) -              -                       0\n",
      "\n",
      "FlattenLayer        -              -              -              -              -                       0\n",
      "\n",
      "DenseLayer          10             (1521,)        (10,)          (10, 1521)     (10, 1)             15220\n",
      "\n",
      "===================================================================================================================\n",
      "Total params                                                                                        15310\n",
      "Epoch 1-20 ======================> cost: 0.9921 accuracy: 0.7090 precision: 0.7054 \n",
      "Epoch 2-20 ======================> cost: 0.7574 accuracy: 0.7680 precision: 0.7772 \n",
      "Epoch 3-20 ======================> cost: 0.6853 accuracy: 0.7840 precision: 0.7951 \n",
      "Epoch 4-20 ======================> cost: 0.5733 accuracy: 0.8270 precision: 0.8406 \n",
      "Epoch 5-20 ======================> cost: 0.5004 accuracy: 0.8520 precision: 0.8591 \n",
      "Epoch 6-20 ======================> cost: 0.4435 accuracy: 0.8630 precision: 0.8652 \n",
      "Epoch 7-20 ======================> cost: 0.4279 accuracy: 0.8750 precision: 0.8796 \n",
      "Epoch 8-20 ======================> cost: 0.4221 accuracy: 0.8730 precision: 0.8773 \n",
      "Epoch 9-20 ======================> cost: 0.3317 accuracy: 0.9010 precision: 0.8996 \n",
      "Epoch 10-20 ======================> cost: 0.3037 accuracy: 0.9210 precision: 0.9239 \n",
      "Epoch 11-20 ======================> cost: 0.2859 accuracy: 0.9200 precision: 0.9181 \n",
      "Epoch 12-20 ======================> cost: 0.2841 accuracy: 0.9170 precision: 0.9215 \n",
      "Epoch 13-20 ======================> cost: 0.2533 accuracy: 0.9230 precision: 0.9243 \n",
      "Epoch 14-20 ======================> cost: 0.2202 accuracy: 0.9470 precision: 0.9470 \n",
      "Epoch 15-20 ======================> cost: 0.2173 accuracy: 0.9430 precision: 0.9470 \n",
      "Epoch 16-20 ======================> cost: 0.2190 accuracy: 0.9360 precision: 0.9402 \n",
      "Epoch 17-20 ======================> cost: 0.1999 accuracy: 0.9410 precision: 0.9427 \n",
      "Epoch 18-20 ======================> cost: 0.1864 accuracy: 0.9490 precision: 0.9542 \n",
      "Epoch 19-20 ======================> cost: 0.1573 accuracy: 0.9640 precision: 0.9653 \n",
      "Epoch 20-20 ======================> cost: 0.1633 accuracy: 0.9540 precision: 0.9553 \n"
     ]
    }
   ],
   "source": [
    "digits = network()\n",
    "\n",
    "digits.add(layers.ConvLayer(input_shape=(28,28,1), filters=9, kernel_size=(3,3), padding='valid', use_bias=True, strides=1))  \n",
    "digits.add(layers.ActivationLayer(activations.Tanh)) \n",
    "digits.add(layers.MaxPool2D(pool_size=(2,2), strides=(2,2)))\n",
    "\n",
    "\n",
    "digits.add(layers.FlattenLayer())\n",
    "digits.add(layers.DenseLayer( units=10, activation=\"softmax\"))                \n",
    "\n",
    "digits.compile(loss=losses.CategoricalCrossentropy(), optimizer=optimizers.Adam(lr=0.01), initializer=\"glorot_uniform\", metrics=[\"accuracy\", \"precision\"])\n",
    "\n",
    "digits.summary()\n",
    "digits.fit(x_train, y_oh_train, epochs=20, batch_size=32, verbose=2)"
   ]
  },
  {
   "cell_type": "code",
   "execution_count": 5,
   "metadata": {},
   "outputs": [
    {
     "name": "stdout",
     "output_type": "stream",
     "text": [
      "Accuracy:  0.754\n"
     ]
    }
   ],
   "source": [
    "prob_pred = digits.predict(x_test)\n",
    "\n",
    "# pred = np.argmax(prob_pred, axis=1).reshape(-1)\n",
    "pred= metrics.predict_classes(prob_pred)\n",
    "\n",
    "print(\"Accuracy: \", metrics.accuracy(y_test, pred))"
   ]
  },
  {
   "attachments": {},
   "cell_type": "markdown",
   "metadata": {},
   "source": [
    "## XNOR Gate (Binary Neural Network)"
   ]
  },
  {
   "cell_type": "code",
   "execution_count": 5,
   "metadata": {},
   "outputs": [],
   "source": [
    "# training data\n",
    "x_train = np.array([[0,0], [0,1], [1,0], [1,1]])\n",
    "y_train = np.array([[0], [1], [1], [0]])\n",
    "\n",
    "\n",
    "# network\n",
    "net = network()\n",
    "\n",
    "net.add(layers.DenseLayer(input_shape=(2), units=8, use_bias=False))\n",
    "net.add(layers.ActivationLayer(activations.Tanh))\n",
    "net.add(layers.DenseLayer(units= 4, activation=\"tanh\"))\n",
    "net.add(layers.DropoutLayer(0.1))\n",
    "# net.add(layers.BatchNormalization(4))\n",
    "net.add(layers.DenseLayer(units=1, activation=\"sigmoid\"))                    # input_shape=(1, 10)       ;   output_shape=(1, 10)\n",
    "\n",
    "# net.use_loss(MSE_loss)\n",
    "net.compile(loss=losses.BinaryCrossentropy(), optimizer=optimizers.GradientDescent(lr=0.9), initializer=\"glorot_uniform\")\n"
   ]
  },
  {
   "cell_type": "code",
   "execution_count": 6,
   "metadata": {},
   "outputs": [
    {
     "name": "stdout",
     "output_type": "stream",
     "text": [
      "Summary of the Neural Network\n",
      "___________________________________________________________________________________________________________________\n",
      "Layer (type)        Neurons #      Input Shape    Output Shape   Weights shape  Bias shape        Param #\n",
      "===================================================================================================================\n",
      "Input               2              -              (2, None)      -              -                       0\n",
      "\n",
      "DenseLayer          8              (2,)           (8,)           (8, 2)         0                      16\n",
      "\n",
      "ActivationLayer     -              activavtion    Tanh           -              -                       0\n",
      "\n",
      "DenseLayer          4              (8,)           (4,)           (4, 8)         (4, 1)                 36\n",
      "\n",
      "DropoutLayer        -              droupout rate: 0.1            -              -                       0\n",
      "\n",
      "DenseLayer          1              (4,)           (1,)           (1, 4)         (1, 1)                  5\n",
      "\n",
      "===================================================================================================================\n",
      "Total params                                                                                           57\n"
     ]
    }
   ],
   "source": [
    "net.summary()"
   ]
  },
  {
   "cell_type": "code",
   "execution_count": 7,
   "metadata": {},
   "outputs": [
    {
     "name": "stdout",
     "output_type": "stream",
     "text": [
      "Epoch 1-100 ======================> cost: 0.8679 \n",
      "Epoch 2-100 ======================> cost: 0.6794 \n",
      "Epoch 3-100 ======================> cost: 0.6150 \n",
      "Epoch 4-100 ======================> cost: 0.5943 \n",
      "Epoch 5-100 ======================> cost: 0.5840 \n",
      "Epoch 6-100 ======================> cost: 0.5747 \n",
      "Epoch 7-100 ======================> cost: 0.5664 \n",
      "Epoch 8-100 ======================> cost: 0.5728 \n",
      "Epoch 9-100 ======================> cost: 0.5681 \n",
      "Epoch 10-100 ======================> cost: 0.5591 \n",
      "Epoch 11-100 ======================> cost: 0.5493 \n",
      "Epoch 12-100 ======================> cost: 0.5454 \n",
      "Epoch 13-100 ======================> cost: 0.5401 \n",
      "Epoch 14-100 ======================> cost: 0.5345 \n",
      "Epoch 15-100 ======================> cost: 0.5366 \n",
      "Epoch 16-100 ======================> cost: 0.5268 \n",
      "Epoch 17-100 ======================> cost: 0.5216 \n",
      "Epoch 18-100 ======================> cost: 0.5201 \n",
      "Epoch 19-100 ======================> cost: 0.5206 \n",
      "Epoch 20-100 ======================> cost: 0.5198 \n",
      "Epoch 21-100 ======================> cost: 0.5130 \n",
      "Epoch 22-100 ======================> cost: 0.5095 \n",
      "Epoch 23-100 ======================> cost: 0.5055 \n",
      "Epoch 24-100 ======================> cost: 0.5037 \n",
      "Epoch 25-100 ======================> cost: 0.5050 \n",
      "Epoch 26-100 ======================> cost: 0.5005 \n",
      "Epoch 27-100 ======================> cost: 0.4970 \n",
      "Epoch 28-100 ======================> cost: 0.4906 \n",
      "Epoch 29-100 ======================> cost: 0.4895 \n",
      "Epoch 30-100 ======================> cost: 0.4843 \n",
      "Epoch 31-100 ======================> cost: 0.4846 \n",
      "Epoch 32-100 ======================> cost: 0.4736 \n",
      "Epoch 33-100 ======================> cost: 0.4618 \n",
      "Epoch 34-100 ======================> cost: 0.4605 \n",
      "Epoch 35-100 ======================> cost: 0.4713 \n",
      "Epoch 36-100 ======================> cost: 0.4490 \n",
      "Epoch 37-100 ======================> cost: 0.4449 \n",
      "Epoch 38-100 ======================> cost: 0.4181 \n",
      "Epoch 39-100 ======================> cost: 0.4276 \n",
      "Epoch 40-100 ======================> cost: 0.3909 \n",
      "Epoch 41-100 ======================> cost: 0.3844 \n",
      "Epoch 42-100 ======================> cost: 0.3866 \n",
      "Epoch 43-100 ======================> cost: 0.3471 \n",
      "Epoch 44-100 ======================> cost: 0.7709 \n",
      "Epoch 45-100 ======================> cost: 0.3401 \n",
      "Epoch 46-100 ======================> cost: 0.3704 \n",
      "Epoch 47-100 ======================> cost: 0.3160 \n",
      "Epoch 48-100 ======================> cost: 0.3404 \n",
      "Epoch 49-100 ======================> cost: 0.3625 \n",
      "Epoch 50-100 ======================> cost: 0.4025 \n",
      "Epoch 51-100 ======================> cost: 0.3107 \n",
      "Epoch 52-100 ======================> cost: 0.2777 \n",
      "Epoch 53-100 ======================> cost: 0.2365 \n",
      "Epoch 54-100 ======================> cost: 0.2300 \n",
      "Epoch 55-100 ======================> cost: 0.2017 \n",
      "Epoch 56-100 ======================> cost: 0.2287 \n",
      "Epoch 57-100 ======================> cost: 0.7611 \n",
      "Epoch 58-100 ======================> cost: 0.3072 \n",
      "Epoch 59-100 ======================> cost: 0.3326 \n",
      "Epoch 60-100 ======================> cost: 0.4832 \n",
      "Epoch 61-100 ======================> cost: 0.6308 \n",
      "Epoch 62-100 ======================> cost: 0.1876 \n",
      "Epoch 63-100 ======================> cost: 0.1406 \n",
      "Epoch 64-100 ======================> cost: 0.1319 \n",
      "Epoch 65-100 ======================> cost: 0.1075 \n",
      "Epoch 66-100 ======================> cost: 0.1069 \n",
      "Epoch 67-100 ======================> cost: 0.0850 \n",
      "Epoch 68-100 ======================> cost: 0.0802 \n",
      "Epoch 69-100 ======================> cost: 0.0761 \n",
      "Epoch 70-100 ======================> cost: 0.0721 \n",
      "Epoch 71-100 ======================> cost: 0.0683 \n",
      "Epoch 72-100 ======================> cost: 0.0633 \n",
      "Epoch 73-100 ======================> cost: 0.0593 \n",
      "Epoch 74-100 ======================> cost: 0.0564 \n",
      "Epoch 75-100 ======================> cost: 0.0539 \n",
      "Epoch 76-100 ======================> cost: 0.0513 \n",
      "Epoch 77-100 ======================> cost: 0.0483 \n",
      "Epoch 78-100 ======================> cost: 0.0474 \n",
      "Epoch 79-100 ======================> cost: 0.0451 \n",
      "Epoch 80-100 ======================> cost: 0.0426 \n",
      "Epoch 81-100 ======================> cost: 0.0459 \n",
      "Epoch 82-100 ======================> cost: 0.0415 \n",
      "Epoch 83-100 ======================> cost: 0.0402 \n",
      "Epoch 84-100 ======================> cost: 0.0379 \n",
      "Epoch 85-100 ======================> cost: 0.0336 \n",
      "Epoch 86-100 ======================> cost: 0.0327 \n",
      "Epoch 87-100 ======================> cost: 0.0315 \n",
      "Epoch 88-100 ======================> cost: 0.0305 \n",
      "Epoch 89-100 ======================> cost: 0.0319 \n",
      "Epoch 90-100 ======================> cost: 0.0307 \n",
      "Epoch 91-100 ======================> cost: 0.0302 \n",
      "Epoch 92-100 ======================> cost: 0.0275 \n",
      "Epoch 93-100 ======================> cost: 0.0271 \n",
      "Epoch 94-100 ======================> cost: 0.0252 \n",
      "Epoch 95-100 ======================> cost: 0.0247 \n",
      "Epoch 96-100 ======================> cost: 0.0243 \n",
      "Epoch 97-100 ======================> cost: 0.0232 \n",
      "Epoch 98-100 ======================> cost: 0.0223 \n",
      "Epoch 99-100 ======================> cost: 0.0216 \n",
      "Epoch 100-100 ======================> cost: 0.0272 \n",
      "[[0.02146259]\n",
      " [0.99256116]\n",
      " [0.98959833]\n",
      " [0.06668742]]\n"
     ]
    }
   ],
   "source": [
    "net.fit(x_train, y_train, epochs=100, verbose=2)\n",
    "\n",
    "# test\n",
    "out = net.predict(x_train)\n",
    "print(out)"
   ]
  },
  {
   "cell_type": "code",
   "execution_count": 8,
   "metadata": {},
   "outputs": [
    {
     "data": {
      "text/plain": [
       "1.0"
      ]
     },
     "execution_count": 8,
     "metadata": {},
     "output_type": "execute_result"
    }
   ],
   "source": [
    "xor_pred = np.round(out)\n",
    "\n",
    "metrics.accuracy(y_train, xor_pred)"
   ]
  },
  {
   "attachments": {},
   "cell_type": "markdown",
   "metadata": {},
   "source": [
    "## Breast Cancer (Binary Neural Network)"
   ]
  },
  {
   "cell_type": "code",
   "execution_count": 9,
   "metadata": {},
   "outputs": [
    {
     "data": {
      "text/plain": [
       "(569, 30)"
      ]
     },
     "execution_count": 9,
     "metadata": {},
     "output_type": "execute_result"
    }
   ],
   "source": [
    "from sklearn.datasets import load_breast_cancer\n",
    "data = load_breast_cancer()\n",
    "\n",
    "data_df = pd.DataFrame(data = data.data,\n",
    "                       columns = data.feature_names)\n",
    "data_df.shape"
   ]
  },
  {
   "cell_type": "code",
   "execution_count": 10,
   "metadata": {},
   "outputs": [
    {
     "name": "stdout",
     "output_type": "stream",
     "text": [
      "Summary of the Neural Network\n",
      "___________________________________________________________________________________________________________________\n",
      "Layer (type)        Neurons #      Input Shape    Output Shape   Weights shape  Bias shape        Param #\n",
      "===================================================================================================================\n",
      "Input               30             -              (30, None)     -              -                       0\n",
      "\n",
      "DenseLayer          64             (30,)          (64,)          (64, 30)       (64, 1)              1984\n",
      "\n",
      "DenseLayer          128            (64,)          (128,)         (128, 64)      (128, 1)             8320\n",
      "\n",
      "DropoutLayer        -              droupout rate: 0.2            -              -                       0\n",
      "\n",
      "DenseLayer          32             (128,)         (32,)          (32, 128)      (32, 1)              4128\n",
      "\n",
      "DenseLayer          1              (32,)          (1,)           (1, 32)        (1, 1)                 33\n",
      "\n",
      "===================================================================================================================\n",
      "Total params                                                                                        14465\n"
     ]
    }
   ],
   "source": [
    "breast_net = network()\n",
    "\n",
    "breast_net.add(layers.DenseLayer(input_shape=(30), units=64, activation=\"tanh\"))\n",
    "# breast_net.add(ActivationLayer(Tanh))\n",
    "\n",
    "breast_net.add(layers.DenseLayer( units=128, activation=\"tanh\"))\n",
    "# breast_net.add(ActivationLayer(Tanh))\n",
    "\n",
    "breast_net.add(layers.DropoutLayer(0.2))\n",
    "\n",
    "breast_net.add(layers.DenseLayer( units=32, activation=\"tanh\"))                    # input_shape=(1, 10)       ;   output_shape=(1, 10)\n",
    "# breast_net.add(ActivationLayer(Tanh))\n",
    "\n",
    "breast_net.add(layers.DenseLayer( units=1, activation=\"sigmoid\"))                    # input_shape=(1, 10)       ;   output_shape=(1, 10)\n",
    "# breast_net.add(ActivationLayer(Sigmoid))\n",
    "\n",
    "breast_net.compile(loss=losses.BinaryCrossentropy(), optimizer=optimizers.Adam(lr=0.001), initializer=\"glorot_uniform\")\n",
    "\n",
    "breast_net.summary()"
   ]
  },
  {
   "cell_type": "code",
   "execution_count": 11,
   "metadata": {},
   "outputs": [
    {
     "name": "stdout",
     "output_type": "stream",
     "text": [
      "Epoch 1-10 ======================> cost: 0.6230 \n",
      "Epoch 2-10 ======================> cost: 0.5528 \n",
      "Epoch 3-10 ======================> cost: 0.4562 \n",
      "Epoch 4-10 ======================> cost: 0.3732 \n",
      "Epoch 5-10 ======================> cost: 0.3220 \n",
      "Epoch 6-10 ======================> cost: 0.2951 \n",
      "Epoch 7-10 ======================> cost: 0.2984 \n",
      "Epoch 8-10 ======================> cost: 0.3516 \n",
      "Epoch 9-10 ======================> cost: 0.2758 \n",
      "Epoch 10-10 ======================> cost: 0.2599 \n"
     ]
    }
   ],
   "source": [
    "# y_breast = np.array(pd.get_dummies(data.target))\n",
    "y_breast = data.target\n",
    "breast_net.fit(x_train=data.data,y_train= y_breast, epochs=10, verbose=2)"
   ]
  },
  {
   "cell_type": "code",
   "execution_count": 12,
   "metadata": {},
   "outputs": [
    {
     "name": "stdout",
     "output_type": "stream",
     "text": [
      "Accuracy:  0.9050966608084359\n",
      "Precision:  0.887468030690537\n",
      "Recall:  0.9719887955182073\n"
     ]
    }
   ],
   "source": [
    "pred_breast = breast_net.predict(data.data)\n",
    "\n",
    "pred_breast = np.round(pred_breast).reshape(-1)\n",
    "\n",
    "print(\"Accuracy: \", metrics.accuracy(y_breast, pred_breast))\n",
    "print(\"Precision: \", metrics.precision(y_breast, pred_breast, average=\"binary\"))\n",
    "print(\"Recall: \", metrics.recall(y_breast, pred_breast, average=\"binary\"))"
   ]
  },
  {
   "cell_type": "code",
   "execution_count": 13,
   "metadata": {},
   "outputs": [
    {
     "name": "stdout",
     "output_type": "stream",
     "text": [
      "Accuracy: 0.9050966608084359\n",
      "Precision: 0.887468030690537\n",
      "Recall: 0.9719887955182073\n"
     ]
    }
   ],
   "source": [
    "# calculate accuracy measures and confusion matrix\n",
    "from sklearn import metrics as sk_metrics\n",
    "\n",
    "print(f\"Accuracy: {sk_metrics.accuracy_score(y_breast, pred_breast)}\")\n",
    "print(f\"Precision: {sk_metrics.precision_score(y_breast, pred_breast)}\")\n",
    "print(f\"Recall: {sk_metrics.recall_score(y_breast, pred_breast)}\")\n"
   ]
  },
  {
   "attachments": {},
   "cell_type": "markdown",
   "metadata": {},
   "source": [
    "## Moon (Binary Neural Network)"
   ]
  },
  {
   "cell_type": "code",
   "execution_count": 14,
   "metadata": {},
   "outputs": [
    {
     "name": "stdout",
     "output_type": "stream",
     "text": [
      "Summary of the Neural Network\n",
      "___________________________________________________________________________________________________________________\n",
      "Layer (type)        Neurons #      Input Shape    Output Shape   Weights shape  Bias shape        Param #\n",
      "===================================================================================================================\n",
      "Input               2              -              (2, None)      -              -                       0\n",
      "\n",
      "DenseLayer          16             (2,)           (16,)          (16, 2)        (16, 1)                48\n",
      "\n",
      "DenseLayer          8              (16,)          (8,)           (8, 16)        (8, 1)                136\n",
      "\n",
      "DropoutLayer        -              droupout rate: 0.5            -              -                       0\n",
      "\n",
      "DenseLayer          1              (8,)           (1,)           (1, 8)         (1, 1)                  9\n",
      "\n",
      "===================================================================================================================\n",
      "Total params                                                                                          193\n"
     ]
    }
   ],
   "source": [
    "import sklearn\n",
    "import sklearn.datasets\n",
    "X, y = sklearn.datasets.make_moons(500, noise=0.30)\n",
    "\n",
    "moon_net = network()\n",
    "\n",
    "moon_net.add(layers.DenseLayer(input_shape=(2), units= 16, activation=\"tanh\"))\n",
    "\n",
    "moon_net.add(layers.DenseLayer(units= 8, activation=\"tanh\"))\n",
    "\n",
    "moon_net.add(layers.DropoutLayer(0.5))\n",
    "\n",
    "moon_net.add(layers.DenseLayer(units= 1, activation=\"sigmoid\"))                    # input_shape=(1, 10)       ;   output_shape=(1, 10)\n",
    "\n",
    "moon_net.compile(loss=losses.BinaryCrossentropy(), optimizer=optimizers.Adam(lr=0.001))\n",
    "\n",
    "moon_net.summary()"
   ]
  },
  {
   "cell_type": "code",
   "execution_count": 15,
   "metadata": {},
   "outputs": [
    {
     "name": "stdout",
     "output_type": "stream",
     "text": [
      "Epoch 1-300 ======================> cost: 0.6077 \n",
      "Epoch 11-300 ======================> cost: 0.4264 \n",
      "Epoch 21-300 ======================> cost: 0.3910 \n",
      "Epoch 31-300 ======================> cost: 0.3830 \n",
      "Epoch 41-300 ======================> cost: 0.3809 \n",
      "Epoch 51-300 ======================> cost: 0.3795 \n",
      "Epoch 61-300 ======================> cost: 0.3780 \n",
      "Epoch 71-300 ======================> cost: 0.3766 \n",
      "Epoch 81-300 ======================> cost: 0.3747 \n",
      "Epoch 91-300 ======================> cost: 0.3739 \n",
      "Epoch 101-300 ======================> cost: 0.3712 \n",
      "Epoch 111-300 ======================> cost: 0.3683 \n",
      "Epoch 121-300 ======================> cost: 0.3653 \n",
      "Epoch 131-300 ======================> cost: 0.3602 \n",
      "Epoch 141-300 ======================> cost: 0.3547 \n",
      "Epoch 151-300 ======================> cost: 0.3472 \n",
      "Epoch 161-300 ======================> cost: 0.3386 \n",
      "Epoch 171-300 ======================> cost: 0.3307 \n",
      "Epoch 181-300 ======================> cost: 0.3188 \n",
      "Epoch 191-300 ======================> cost: 0.3077 \n",
      "Epoch 201-300 ======================> cost: 0.2973 \n",
      "Epoch 211-300 ======================> cost: 0.2879 \n",
      "Epoch 221-300 ======================> cost: 0.2797 \n",
      "Epoch 231-300 ======================> cost: 0.2738 \n",
      "Epoch 241-300 ======================> cost: 0.2677 \n",
      "Epoch 251-300 ======================> cost: 0.2638 \n",
      "Epoch 261-300 ======================> cost: 0.2604 \n",
      "Epoch 271-300 ======================> cost: 0.2606 \n",
      "Epoch 281-300 ======================> cost: 0.2562 \n",
      "Epoch 291-300 ======================> cost: 0.2549 \n"
     ]
    }
   ],
   "source": [
    "moon_net.fit(X, y, epochs=300, verbose=1, batch_size=32)"
   ]
  },
  {
   "cell_type": "code",
   "execution_count": 16,
   "metadata": {},
   "outputs": [
    {
     "name": "stdout",
     "output_type": "stream",
     "text": [
      "Accuracy:  0.908\n",
      "Precision:  0.8923076923076924\n",
      "Recall:  0.928\n",
      "R2:  0.632\n"
     ]
    }
   ],
   "source": [
    "moon_pred = moon_net.predict(X)\n",
    "\n",
    "# as this is also a binary classification, we need to reshape the output to 1D array\n",
    "moon_pred = np.round(moon_pred).reshape(-1)\n",
    "\n",
    "print(\"Accuracy: \", metrics.accuracy(y, moon_pred))\n",
    "print(\"Precision: \", metrics.precision(y, moon_pred, average=\"binary\"))\n",
    "print(\"Recall: \", metrics.recall(y, moon_pred, average=\"binary\"))\n",
    "print(\"R2: \", metrics.r2_score(y, moon_pred))"
   ]
  },
  {
   "cell_type": "code",
   "execution_count": 17,
   "metadata": {},
   "outputs": [
    {
     "name": "stdout",
     "output_type": "stream",
     "text": [
      "Accuracy:  0.908\n",
      "Precision:  0.8923076923076924\n",
      "Recall:  0.928\n",
      "R2:  0.632\n"
     ]
    }
   ],
   "source": [
    "print(\"Accuracy: \", sk_metrics.accuracy_score(y, moon_pred))\n",
    "print(\"Precision: \", sk_metrics.precision_score(y, moon_pred))\n",
    "print(\"Recall: \", sk_metrics.recall_score(y, moon_pred))\n",
    "print(\"R2: \", sk_metrics.r2_score(y, moon_pred))"
   ]
  },
  {
   "attachments": {},
   "cell_type": "markdown",
   "metadata": {},
   "source": [
    "## MNIST Fashion Recognition (10 classes)"
   ]
  },
  {
   "cell_type": "code",
   "execution_count": 18,
   "metadata": {},
   "outputs": [
    {
     "name": "stderr",
     "output_type": "stream",
     "text": [
      "2023-03-13 01:16:43.940728: I tensorflow/core/platform/cpu_feature_guard.cc:193] This TensorFlow binary is optimized with oneAPI Deep Neural Network Library (oneDNN) to use the following CPU instructions in performance-critical operations:  AVX2 FMA\n",
      "To enable them in other operations, rebuild TensorFlow with the appropriate compiler flags.\n"
     ]
    }
   ],
   "source": [
    "# load MNIST Fashion dataset from keras\n",
    "\n",
    "from keras.datasets import fashion_mnist\n",
    "\n",
    "(x_train, y_train), (x_test, y_test) = fashion_mnist.load_data()\n",
    "\n",
    "# normalize the data\n",
    "x_train = x_train/255.\n",
    "x_test = x_test/255.\n",
    "\n",
    "# Flatten the images\n",
    "x_train = x_train.reshape(-1, 28*28)\n",
    "x_test = x_test.reshape(-1, 28*28)"
   ]
  },
  {
   "cell_type": "code",
   "execution_count": 33,
   "metadata": {},
   "outputs": [],
   "source": [
    "precisions_ = []\n",
    "accuracies_ = []\n",
    "recalls_ = []\n",
    "f1s_ = []\n",
    "losses_ = []\n",
    "\n",
    "\n",
    "def callback(true, predicted, loss, epoch):\n",
    "    losses_.append(loss)\n",
    "    pred  = metrics.predict_classes(predicted)\n",
    "    # print(pred.shape)\n",
    "    global precisions_\n",
    "    global accuracies_\n",
    "    global recalls_\n",
    "    global f1s_\n",
    "    precisions_.append(metrics.precision(true, pred))\n",
    "    accuracies_.append(metrics.accuracy(true, pred))\n",
    "    recalls_.append(metrics.recall(true, pred))\n",
    "    f1s_.append(metrics.f1_score(true, pred))"
   ]
  },
  {
   "cell_type": "code",
   "execution_count": 34,
   "metadata": {},
   "outputs": [
    {
     "name": "stdout",
     "output_type": "stream",
     "text": [
      "Summary of the Neural Network\n",
      "___________________________________________________________________________________________________________________\n",
      "Layer (type)        Neurons #      Input Shape    Output Shape   Weights shape  Bias shape        Param #\n",
      "===================================================================================================================\n",
      "Input               784            -              (784, None)    -              -                       0\n",
      "\n",
      "DenseLayer          20             (784,)         (20,)          (20, 784)      (20, 1)             15700\n",
      "\n",
      "DenseLayer          10             (20,)          (10,)          (10, 20)       (10, 1)               210\n",
      "\n",
      "DropoutLayer        -              droupout rate: 0.2            -              -                       0\n",
      "\n",
      "DenseLayer          8              (10,)          (8,)           (8, 10)        (8, 1)                 88\n",
      "\n",
      "BatchNormalization  -              epsilon:       1e-08          -              -                       -\n",
      "\n",
      "DenseLayer          10             (8,)           (10,)          (10, 8)        (10, 1)                90\n",
      "\n",
      "===================================================================================================================\n",
      "Total params                                                                                        16088\n"
     ]
    }
   ],
   "source": [
    "digits = network()\n",
    "\n",
    "digits.add(layers.DenseLayer(input_shape=(28*28), units=20, activation=\"relu\"))              \n",
    "\n",
    "digits.add(layers.DenseLayer( units=10, activation=\"relu\"))                \n",
    "\n",
    "digits.add(layers.DropoutLayer(dropout_rate=0.2))\n",
    "\n",
    "digits.add(layers.DenseLayer( units= 8, activation=\"relu\"))\n",
    "\n",
    "digits.add(layers.BatchNormalization(8))\n",
    "\n",
    "digits.add(layers.DenseLayer( units=10, activation=\"softmax\"))                   \n",
    "\n",
    "digits.compile(loss=losses.CategoricalCrossentropy(), optimizer=optimizers.Adam(lr=0.001), initializer=\"glorot_uniform\", metrics=[\"accuracy\"])\n",
    "\n",
    "digits.summary()"
   ]
  },
  {
   "cell_type": "code",
   "execution_count": 35,
   "metadata": {},
   "outputs": [
    {
     "name": "stdout",
     "output_type": "stream",
     "text": [
      "Epoch 1-30 ======================> cost: 0.7253 accuracy: 0.7517 \n",
      "Epoch 11-30 ======================> cost: 0.3879 accuracy: 0.8610 \n",
      "Epoch 21-30 ======================> cost: 0.3460 accuracy: 0.8774 \n"
     ]
    }
   ],
   "source": [
    "y_oh = np.array(pd.get_dummies(y_train))\n",
    "digits.fit(x_train, y_oh, epochs=30,  batch_size=32, verbose=1, callback=callback)"
   ]
  },
  {
   "cell_type": "code",
   "execution_count": 36,
   "metadata": {},
   "outputs": [
    {
     "data": {
      "image/png": "[encoded data removed]",
      "text/plain": [
       "<Figure size 2500x500 with 4 Axes>"
      ]
     },
     "metadata": {},
     "output_type": "display_data"
    }
   ],
   "source": [
    "def plot_metrics(metrics, titles):\n",
    "    # plot all the metrics in one plot\n",
    "\n",
    "    fig, ax = plt.subplots(1, len(metrics), figsize=(25, 5))\n",
    "    if len(metrics) == 1:\n",
    "        ax = [ax]\n",
    "\n",
    "    for i, metric in enumerate(metrics):\n",
    "        ax[i].plot(metric)\n",
    "        ax[i].set_title(titles[i])\n",
    "        ax[i].set_xlabel(\"Epochs\")\n",
    "        ax[i].set_ylabel(titles[i])\n",
    "    plt.show()\n",
    "\n",
    "plot_metrics([precisions_, accuracies_, recalls_, f1s_], [\"Precision\", \"Accuracy\", \"Recall\", \"F1\"])"
   ]
  },
  {
   "cell_type": "code",
   "execution_count": 37,
   "metadata": {},
   "outputs": [
    {
     "data": {
      "image/png": "[encoded data removed]",
      "text/plain": [
       "<Figure size 2500x500 with 1 Axes>"
      ]
     },
     "metadata": {},
     "output_type": "display_data"
    }
   ],
   "source": [
    "plot_metrics([losses_], [\"Caterogical Cross-Entropy\"])"
   ]
  },
  {
   "cell_type": "code",
   "execution_count": 38,
   "metadata": {},
   "outputs": [
    {
     "data": {
      "text/plain": [
       "0.8789"
      ]
     },
     "execution_count": 38,
     "metadata": {},
     "output_type": "execute_result"
    }
   ],
   "source": [
    "prob_train = digits.predict(x_train)\n",
    "\n",
    "# as this is not a binary classification, we need to use predict_classes and then accuracy\n",
    "train_pred = metrics.predict_classes(prob_train)\n",
    "metrics.accuracy(y_train, train_pred)"
   ]
  },
  {
   "cell_type": "code",
   "execution_count": 39,
   "metadata": {},
   "outputs": [
    {
     "name": "stdout",
     "output_type": "stream",
     "text": [
      "Test Accuracy:  0.8522\n"
     ]
    }
   ],
   "source": [
    "prob_test = digits.predict(x_test)\n",
    "test_pred = metrics.predict_classes(prob_test)\n",
    "print(\"Test Accuracy: \", metrics.accuracy(y_test, test_pred))"
   ]
  },
  {
   "cell_type": "code",
   "execution_count": 40,
   "metadata": {},
   "outputs": [
    {
     "name": "stdout",
     "output_type": "stream",
     "text": [
      "Training Precision: 0.8808\n",
      "Testing Precision:  0.8533\n"
     ]
    }
   ],
   "source": [
    "train_prec = metrics.precision(y_train, train_pred, average=\"macro\")\n",
    "test_prec = metrics.precision(y_test, test_pred, average=\"macro\")\n",
    "\n",
    "print(f\"Training Precision: {train_prec:.4f}\\nTesting Precision:  {test_prec:.4f}\")"
   ]
  },
  {
   "cell_type": "code",
   "execution_count": 41,
   "metadata": {},
   "outputs": [
    {
     "data": {
      "text/plain": [
       "0.8040323232323232"
      ]
     },
     "execution_count": 41,
     "metadata": {},
     "output_type": "execute_result"
    }
   ],
   "source": [
    "metrics.r2_score(y_train, train_pred)"
   ]
  },
  {
   "cell_type": "code",
   "execution_count": 42,
   "metadata": {},
   "outputs": [
    {
     "data": {
      "text/html": [
       "<div>\n",
       "<style scoped>\n",
       "    .dataframe tbody tr th:only-of-type {\n",
       "        vertical-align: middle;\n",
       "    }\n",
       "\n",
       "    .dataframe tbody tr th {\n",
       "        vertical-align: top;\n",
       "    }\n",
       "\n",
       "    .dataframe thead th {\n",
       "        text-align: right;\n",
       "    }\n",
       "</style>\n",
       "<table border=\"1\" class=\"dataframe\">\n",
       "  <thead>\n",
       "    <tr style=\"text-align: right;\">\n",
       "      <th>Predicted</th>\n",
       "      <th>0</th>\n",
       "      <th>1</th>\n",
       "      <th>2</th>\n",
       "      <th>3</th>\n",
       "      <th>4</th>\n",
       "      <th>5</th>\n",
       "      <th>6</th>\n",
       "      <th>7</th>\n",
       "      <th>8</th>\n",
       "      <th>9</th>\n",
       "    </tr>\n",
       "    <tr>\n",
       "      <th>Actual</th>\n",
       "      <th></th>\n",
       "      <th></th>\n",
       "      <th></th>\n",
       "      <th></th>\n",
       "      <th></th>\n",
       "      <th></th>\n",
       "      <th></th>\n",
       "      <th></th>\n",
       "      <th></th>\n",
       "      <th></th>\n",
       "    </tr>\n",
       "  </thead>\n",
       "  <tbody>\n",
       "    <tr>\n",
       "      <th>0</th>\n",
       "      <td>5178</td>\n",
       "      <td>2</td>\n",
       "      <td>91</td>\n",
       "      <td>597</td>\n",
       "      <td>11</td>\n",
       "      <td>2</td>\n",
       "      <td>105</td>\n",
       "      <td>0</td>\n",
       "      <td>14</td>\n",
       "      <td>0</td>\n",
       "    </tr>\n",
       "    <tr>\n",
       "      <th>1</th>\n",
       "      <td>2</td>\n",
       "      <td>5876</td>\n",
       "      <td>1</td>\n",
       "      <td>108</td>\n",
       "      <td>10</td>\n",
       "      <td>2</td>\n",
       "      <td>0</td>\n",
       "      <td>0</td>\n",
       "      <td>1</td>\n",
       "      <td>0</td>\n",
       "    </tr>\n",
       "    <tr>\n",
       "      <th>2</th>\n",
       "      <td>73</td>\n",
       "      <td>2</td>\n",
       "      <td>4873</td>\n",
       "      <td>151</td>\n",
       "      <td>638</td>\n",
       "      <td>0</td>\n",
       "      <td>251</td>\n",
       "      <td>0</td>\n",
       "      <td>12</td>\n",
       "      <td>0</td>\n",
       "    </tr>\n",
       "    <tr>\n",
       "      <th>3</th>\n",
       "      <td>45</td>\n",
       "      <td>93</td>\n",
       "      <td>16</td>\n",
       "      <td>5737</td>\n",
       "      <td>84</td>\n",
       "      <td>0</td>\n",
       "      <td>21</td>\n",
       "      <td>0</td>\n",
       "      <td>4</td>\n",
       "      <td>0</td>\n",
       "    </tr>\n",
       "    <tr>\n",
       "      <th>4</th>\n",
       "      <td>6</td>\n",
       "      <td>16</td>\n",
       "      <td>409</td>\n",
       "      <td>441</td>\n",
       "      <td>4772</td>\n",
       "      <td>0</td>\n",
       "      <td>353</td>\n",
       "      <td>0</td>\n",
       "      <td>3</td>\n",
       "      <td>0</td>\n",
       "    </tr>\n",
       "    <tr>\n",
       "      <th>5</th>\n",
       "      <td>0</td>\n",
       "      <td>0</td>\n",
       "      <td>1</td>\n",
       "      <td>0</td>\n",
       "      <td>0</td>\n",
       "      <td>5860</td>\n",
       "      <td>1</td>\n",
       "      <td>64</td>\n",
       "      <td>6</td>\n",
       "      <td>68</td>\n",
       "    </tr>\n",
       "    <tr>\n",
       "      <th>6</th>\n",
       "      <td>1381</td>\n",
       "      <td>8</td>\n",
       "      <td>617</td>\n",
       "      <td>509</td>\n",
       "      <td>372</td>\n",
       "      <td>1</td>\n",
       "      <td>3094</td>\n",
       "      <td>0</td>\n",
       "      <td>18</td>\n",
       "      <td>0</td>\n",
       "    </tr>\n",
       "    <tr>\n",
       "      <th>7</th>\n",
       "      <td>0</td>\n",
       "      <td>0</td>\n",
       "      <td>0</td>\n",
       "      <td>0</td>\n",
       "      <td>0</td>\n",
       "      <td>123</td>\n",
       "      <td>0</td>\n",
       "      <td>5622</td>\n",
       "      <td>6</td>\n",
       "      <td>249</td>\n",
       "    </tr>\n",
       "    <tr>\n",
       "      <th>8</th>\n",
       "      <td>15</td>\n",
       "      <td>0</td>\n",
       "      <td>31</td>\n",
       "      <td>53</td>\n",
       "      <td>8</td>\n",
       "      <td>9</td>\n",
       "      <td>38</td>\n",
       "      <td>6</td>\n",
       "      <td>5835</td>\n",
       "      <td>5</td>\n",
       "    </tr>\n",
       "    <tr>\n",
       "      <th>9</th>\n",
       "      <td>0</td>\n",
       "      <td>0</td>\n",
       "      <td>0</td>\n",
       "      <td>0</td>\n",
       "      <td>0</td>\n",
       "      <td>26</td>\n",
       "      <td>0</td>\n",
       "      <td>87</td>\n",
       "      <td>0</td>\n",
       "      <td>5887</td>\n",
       "    </tr>\n",
       "  </tbody>\n",
       "</table>\n",
       "</div>"
      ],
      "text/plain": [
       "Predicted     0     1     2     3     4     5     6     7     8     9\n",
       "Actual                                                               \n",
       "0          5178     2    91   597    11     2   105     0    14     0\n",
       "1             2  5876     1   108    10     2     0     0     1     0\n",
       "2            73     2  4873   151   638     0   251     0    12     0\n",
       "3            45    93    16  5737    84     0    21     0     4     0\n",
       "4             6    16   409   441  4772     0   353     0     3     0\n",
       "5             0     0     1     0     0  5860     1    64     6    68\n",
       "6          1381     8   617   509   372     1  3094     0    18     0\n",
       "7             0     0     0     0     0   123     0  5622     6   249\n",
       "8            15     0    31    53     8     9    38     6  5835     5\n",
       "9             0     0     0     0     0    26     0    87     0  5887"
      ]
     },
     "execution_count": 42,
     "metadata": {},
     "output_type": "execute_result"
    }
   ],
   "source": [
    "metrics.confusion_matrix(y_train, train_pred)"
   ]
  },
  {
   "cell_type": "code",
   "execution_count": 43,
   "metadata": {},
   "outputs": [
    {
     "data": {
      "text/html": [
       "<div>\n",
       "<style scoped>\n",
       "    .dataframe tbody tr th:only-of-type {\n",
       "        vertical-align: middle;\n",
       "    }\n",
       "\n",
       "    .dataframe tbody tr th {\n",
       "        vertical-align: top;\n",
       "    }\n",
       "\n",
       "    .dataframe thead th {\n",
       "        text-align: right;\n",
       "    }\n",
       "</style>\n",
       "<table border=\"1\" class=\"dataframe\">\n",
       "  <thead>\n",
       "    <tr style=\"text-align: right;\">\n",
       "      <th>Predicted</th>\n",
       "      <th>0</th>\n",
       "      <th>1</th>\n",
       "      <th>2</th>\n",
       "      <th>3</th>\n",
       "      <th>4</th>\n",
       "      <th>5</th>\n",
       "      <th>6</th>\n",
       "      <th>7</th>\n",
       "      <th>8</th>\n",
       "      <th>9</th>\n",
       "    </tr>\n",
       "    <tr>\n",
       "      <th>Actual</th>\n",
       "      <th></th>\n",
       "      <th></th>\n",
       "      <th></th>\n",
       "      <th></th>\n",
       "      <th></th>\n",
       "      <th></th>\n",
       "      <th></th>\n",
       "      <th></th>\n",
       "      <th></th>\n",
       "      <th></th>\n",
       "    </tr>\n",
       "  </thead>\n",
       "  <tbody>\n",
       "    <tr>\n",
       "      <th>0</th>\n",
       "      <td>5178</td>\n",
       "      <td>2</td>\n",
       "      <td>91</td>\n",
       "      <td>597</td>\n",
       "      <td>11</td>\n",
       "      <td>2</td>\n",
       "      <td>105</td>\n",
       "      <td>0</td>\n",
       "      <td>14</td>\n",
       "      <td>0</td>\n",
       "    </tr>\n",
       "    <tr>\n",
       "      <th>1</th>\n",
       "      <td>2</td>\n",
       "      <td>5876</td>\n",
       "      <td>1</td>\n",
       "      <td>108</td>\n",
       "      <td>10</td>\n",
       "      <td>2</td>\n",
       "      <td>0</td>\n",
       "      <td>0</td>\n",
       "      <td>1</td>\n",
       "      <td>0</td>\n",
       "    </tr>\n",
       "    <tr>\n",
       "      <th>2</th>\n",
       "      <td>73</td>\n",
       "      <td>2</td>\n",
       "      <td>4873</td>\n",
       "      <td>151</td>\n",
       "      <td>638</td>\n",
       "      <td>0</td>\n",
       "      <td>251</td>\n",
       "      <td>0</td>\n",
       "      <td>12</td>\n",
       "      <td>0</td>\n",
       "    </tr>\n",
       "    <tr>\n",
       "      <th>3</th>\n",
       "      <td>45</td>\n",
       "      <td>93</td>\n",
       "      <td>16</td>\n",
       "      <td>5737</td>\n",
       "      <td>84</td>\n",
       "      <td>0</td>\n",
       "      <td>21</td>\n",
       "      <td>0</td>\n",
       "      <td>4</td>\n",
       "      <td>0</td>\n",
       "    </tr>\n",
       "    <tr>\n",
       "      <th>4</th>\n",
       "      <td>6</td>\n",
       "      <td>16</td>\n",
       "      <td>409</td>\n",
       "      <td>441</td>\n",
       "      <td>4772</td>\n",
       "      <td>0</td>\n",
       "      <td>353</td>\n",
       "      <td>0</td>\n",
       "      <td>3</td>\n",
       "      <td>0</td>\n",
       "    </tr>\n",
       "    <tr>\n",
       "      <th>5</th>\n",
       "      <td>0</td>\n",
       "      <td>0</td>\n",
       "      <td>1</td>\n",
       "      <td>0</td>\n",
       "      <td>0</td>\n",
       "      <td>5860</td>\n",
       "      <td>1</td>\n",
       "      <td>64</td>\n",
       "      <td>6</td>\n",
       "      <td>68</td>\n",
       "    </tr>\n",
       "    <tr>\n",
       "      <th>6</th>\n",
       "      <td>1381</td>\n",
       "      <td>8</td>\n",
       "      <td>617</td>\n",
       "      <td>509</td>\n",
       "      <td>372</td>\n",
       "      <td>1</td>\n",
       "      <td>3094</td>\n",
       "      <td>0</td>\n",
       "      <td>18</td>\n",
       "      <td>0</td>\n",
       "    </tr>\n",
       "    <tr>\n",
       "      <th>7</th>\n",
       "      <td>0</td>\n",
       "      <td>0</td>\n",
       "      <td>0</td>\n",
       "      <td>0</td>\n",
       "      <td>0</td>\n",
       "      <td>123</td>\n",
       "      <td>0</td>\n",
       "      <td>5622</td>\n",
       "      <td>6</td>\n",
       "      <td>249</td>\n",
       "    </tr>\n",
       "    <tr>\n",
       "      <th>8</th>\n",
       "      <td>15</td>\n",
       "      <td>0</td>\n",
       "      <td>31</td>\n",
       "      <td>53</td>\n",
       "      <td>8</td>\n",
       "      <td>9</td>\n",
       "      <td>38</td>\n",
       "      <td>6</td>\n",
       "      <td>5835</td>\n",
       "      <td>5</td>\n",
       "    </tr>\n",
       "    <tr>\n",
       "      <th>9</th>\n",
       "      <td>0</td>\n",
       "      <td>0</td>\n",
       "      <td>0</td>\n",
       "      <td>0</td>\n",
       "      <td>0</td>\n",
       "      <td>26</td>\n",
       "      <td>0</td>\n",
       "      <td>87</td>\n",
       "      <td>0</td>\n",
       "      <td>5887</td>\n",
       "    </tr>\n",
       "  </tbody>\n",
       "</table>\n",
       "</div>"
      ],
      "text/plain": [
       "Predicted     0     1     2     3     4     5     6     7     8     9\n",
       "Actual                                                               \n",
       "0          5178     2    91   597    11     2   105     0    14     0\n",
       "1             2  5876     1   108    10     2     0     0     1     0\n",
       "2            73     2  4873   151   638     0   251     0    12     0\n",
       "3            45    93    16  5737    84     0    21     0     4     0\n",
       "4             6    16   409   441  4772     0   353     0     3     0\n",
       "5             0     0     1     0     0  5860     1    64     6    68\n",
       "6          1381     8   617   509   372     1  3094     0    18     0\n",
       "7             0     0     0     0     0   123     0  5622     6   249\n",
       "8            15     0    31    53     8     9    38     6  5835     5\n",
       "9             0     0     0     0     0    26     0    87     0  5887"
      ]
     },
     "execution_count": 43,
     "metadata": {},
     "output_type": "execute_result"
    }
   ],
   "source": [
    "metrics.confusion_matrix(y_train, train_pred)"
   ]
  },
  {
   "cell_type": "code",
   "execution_count": 44,
   "metadata": {},
   "outputs": [
    {
     "data": {
      "text/plain": [
       "array([[822,   2,  13, 124,   2,   0,  28,   0,   9,   0],\n",
       "       [  0, 965,   1,  29,   3,   0,   2,   0,   0,   0],\n",
       "       [ 22,   1, 780,  25, 121,   0,  48,   0,   3,   0],\n",
       "       [ 17,  19,   6, 932,  16,   0,   7,   0,   3,   0],\n",
       "       [  0,   2, 105,  65, 748,   0,  80,   0,   0,   0],\n",
       "       [  0,   0,   0,   1,   0, 950,   0,  25,   1,  23],\n",
       "       [214,   0, 118, 100,  68,   0, 492,   0,   8,   0],\n",
       "       [  0,   0,   0,   0,   0,  39,   0, 917,   0,  44],\n",
       "       [  6,   0,   8,  15,   1,   8,   8,   3, 951,   0],\n",
       "       [  0,   0,   0,   0,   0,   6,   1,  28,   0, 965]])"
      ]
     },
     "execution_count": 44,
     "metadata": {},
     "output_type": "execute_result"
    }
   ],
   "source": [
    "sk_metrics.confusion_matrix(y_test, test_pred)"
   ]
  },
  {
   "cell_type": "code",
   "execution_count": 45,
   "metadata": {},
   "outputs": [
    {
     "data": {
      "text/plain": [
       "array([[822,   2,  13, 124,   2,   0,  28,   0,   9,   0],\n",
       "       [  0, 965,   1,  29,   3,   0,   2,   0,   0,   0],\n",
       "       [ 22,   1, 780,  25, 121,   0,  48,   0,   3,   0],\n",
       "       [ 17,  19,   6, 932,  16,   0,   7,   0,   3,   0],\n",
       "       [  0,   2, 105,  65, 748,   0,  80,   0,   0,   0],\n",
       "       [  0,   0,   0,   1,   0, 950,   0,  25,   1,  23],\n",
       "       [214,   0, 118, 100,  68,   0, 492,   0,   8,   0],\n",
       "       [  0,   0,   0,   0,   0,  39,   0, 917,   0,  44],\n",
       "       [  6,   0,   8,  15,   1,   8,   8,   3, 951,   0],\n",
       "       [  0,   0,   0,   0,   0,   6,   1,  28,   0, 965]])"
      ]
     },
     "execution_count": 45,
     "metadata": {},
     "output_type": "execute_result"
    }
   ],
   "source": [
    "sk_metrics.confusion_matrix(y_test, test_pred)"
   ]
  },
  {
   "attachments": {},
   "cell_type": "markdown",
   "metadata": {},
   "source": [
    "\n",
    "## Boston Housing (Regression)\n"
   ]
  },
  {
   "cell_type": "code",
   "execution_count": 46,
   "metadata": {},
   "outputs": [
    {
     "data": {
      "text/plain": [
       "((404, 13), (102, 13))"
      ]
     },
     "execution_count": 46,
     "metadata": {},
     "output_type": "execute_result"
    }
   ],
   "source": [
    "from keras.datasets import boston_housing\n",
    "\n",
    "(x_train, y_train), (x_test, y_test) = boston_housing.load_data()\n",
    "\n",
    "# normalize the data\n",
    "x_train = x_train/np.max(x_train)\n",
    "x_test = x_test/np.max(x_test)\n",
    "\n",
    "x_train.shape, x_test.shape"
   ]
  },
  {
   "cell_type": "code",
   "execution_count": 47,
   "metadata": {},
   "outputs": [],
   "source": [
    "\n",
    "boston = network()\n",
    "\n",
    "boston.add(layers.DenseLayer(input_shape=(13), units=20, activation=\"tanh\"))\n",
    "\n",
    "boston.add(layers.DenseLayer(units=10, activation=\"tanh\"))\n",
    "\n",
    "boston.add(layers.DropoutLayer(dropout_rate=0.2))\n",
    "\n",
    "boston.add(layers.DenseLayer(units= 8, activation=\"tanh\", use_bias=False))\n",
    "\n",
    "boston.add(layers.BatchNormalization(8))\n",
    "\n",
    "boston.add(layers.DenseLayer(units=1, activation=\"linear\"))\n",
    "\n",
    "boston.compile(loss=losses.MSE(), optimizer=optimizers.Adam(lr=0.01))"
   ]
  },
  {
   "cell_type": "code",
   "execution_count": 48,
   "metadata": {},
   "outputs": [
    {
     "name": "stdout",
     "output_type": "stream",
     "text": [
      "Summary of the Neural Network\n",
      "___________________________________________________________________________________________________________________\n",
      "Layer (type)        Neurons #      Input Shape    Output Shape   Weights shape  Bias shape        Param #\n",
      "===================================================================================================================\n",
      "Input               13             -              (13, None)     -              -                       0\n",
      "\n",
      "DenseLayer          20             (13,)          (20,)          (20, 13)       (20, 1)               280\n",
      "\n",
      "DenseLayer          10             (20,)          (10,)          (10, 20)       (10, 1)               210\n",
      "\n",
      "DropoutLayer        -              droupout rate: 0.2            -              -                       0\n",
      "\n",
      "DenseLayer          8              (10,)          (8,)           (8, 10)        0                      80\n",
      "\n",
      "BatchNormalization  -              epsilon:       1e-08          -              -                       -\n",
      "\n",
      "DenseLayer          1              (8,)           (1,)           (1, 8)         (1, 1)                  9\n",
      "\n",
      "===================================================================================================================\n",
      "Total params                                                                                          579\n"
     ]
    }
   ],
   "source": [
    "boston.summary()"
   ]
  },
  {
   "cell_type": "code",
   "execution_count": 49,
   "metadata": {},
   "outputs": [
    {
     "name": "stdout",
     "output_type": "stream",
     "text": [
      "Epoch 1-100 ======================> cost: 220.2000 \n",
      "Epoch 11-100 ======================> cost: 28.5444 \n",
      "Epoch 21-100 ======================> cost: 24.1721 \n",
      "Epoch 31-100 ======================> cost: 18.7586 \n",
      "Epoch 41-100 ======================> cost: 14.8702 \n",
      "Epoch 51-100 ======================> cost: 13.4771 \n",
      "Epoch 61-100 ======================> cost: 10.4416 \n",
      "Epoch 71-100 ======================> cost: 8.6858 \n",
      "Epoch 81-100 ======================> cost: 8.1894 \n",
      "Epoch 91-100 ======================> cost: 7.3921 \n"
     ]
    }
   ],
   "source": [
    "boston.fit(x_train, y_train, epochs=100,  batch_size=64, verbose=1)"
   ]
  },
  {
   "cell_type": "code",
   "execution_count": 50,
   "metadata": {},
   "outputs": [
    {
     "data": {
      "text/plain": [
       "0.8322003802989995"
      ]
     },
     "execution_count": 50,
     "metadata": {},
     "output_type": "execute_result"
    }
   ],
   "source": [
    "boston_pred = boston.predict(x_train).reshape(-1)\n",
    "metrics.r2_score(y_train, boston_pred)"
   ]
  },
  {
   "attachments": {},
   "cell_type": "markdown",
   "metadata": {},
   "source": [
    "***"
   ]
  }
 ],
 "metadata": {
  "kernelspec": {
   "display_name": "my_env",
   "language": "python",
   "name": "python3"
  },
  "language_info": {
   "codemirror_mode": {
    "name": "ipython",
    "version": 3
   },
   "file_extension": ".py",
   "mimetype": "text/x-python",
   "name": "python",
   "nbconvert_exporter": "python",
   "pygments_lexer": "ipython3",
   "version": "3.10.6"
  },
  "orig_nbformat": 4,
  "vscode": {
   "interpreter": {
    "hash": "a4a1b8dfbfcf197657bbe13300384e076b1914ebd98f1200feef09f71d03b223"
   }
  }
 },
 "nbformat": 4,
 "nbformat_minor": 2
}
